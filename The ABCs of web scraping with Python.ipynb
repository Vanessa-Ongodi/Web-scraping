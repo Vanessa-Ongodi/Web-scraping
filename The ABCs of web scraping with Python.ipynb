{
 "cells": [
  {
   "cell_type": "markdown",
   "id": "e5945e92",
   "metadata": {},
   "source": [
    "As a Data Analyst, a Data Engineer, and a Data Scientist, you will always need data to solve problems and proffer solutions. Now, what do you do as a beginner when you need data from a website that hasn't already been curated. For example, you need data for analyzing the most-watched movies from a streaming network, you need data from reviews, you need data from an e-commerce website, etc., in a tabular format for data analysis. \n",
    "\n",
    "In essence, the process of acquiring this data is called **web scraping**. Web scraping is the method of extracting data and information from a website using commands. It extracts underlying HTML code together with data that is in a database.\n",
    "\n",
    "\n",
    "*Note: Additional knowledge of HTML and CSS will be an added advantage in web scraping because it will help you to identify elements when inspecting the contents of the website.*"
   ]
  },
  {
   "cell_type": "markdown",
   "id": "e3e4aa07",
   "metadata": {},
   "source": [
    "To do this, I will simply extract the 2021 movie rating data from the rotten tomatoes website using the ABCs of web scraping which is a term I coined which stands for:\n",
    "\n",
    "A- Acquire\n",
    "\n",
    "B- Breakdown\n",
    "\n",
    "C- Compile"
   ]
  },
  {
   "cell_type": "markdown",
   "id": "9afb15fc",
   "metadata": {},
   "source": [
    "Acquire"
   ]
  },
  {
   "cell_type": "code",
   "execution_count": 6,
   "id": "c298fff4",
   "metadata": {},
   "outputs": [],
   "source": [
    "import csv\n",
    "from bs4 import BeautifulSoup\n",
    "import requests\n",
    "import pandas as pd"
   ]
  },
  {
   "cell_type": "code",
   "execution_count": 2,
   "id": "8c711240",
   "metadata": {},
   "outputs": [],
   "source": [
    "url = \"https://editorial.rottentomatoes.com/guide/2021-best-movies/\""
   ]
  },
  {
   "cell_type": "code",
   "execution_count": 3,
   "id": "1aa13e6b",
   "metadata": {},
   "outputs": [],
   "source": [
    "data  = requests.get(url).text "
   ]
  },
  {
   "cell_type": "code",
   "execution_count": 4,
   "id": "519af9ef",
   "metadata": {},
   "outputs": [],
   "source": [
    "soup = BeautifulSoup(data, 'html.parser')"
   ]
  },
  {
   "cell_type": "markdown",
   "id": "cbc7a96d",
   "metadata": {},
   "source": [
    "Breakdown"
   ]
  },
  {
   "cell_type": "code",
   "execution_count": 5,
   "id": "c664f5ec",
   "metadata": {},
   "outputs": [],
   "source": [
    "results = soup.find_all('div','article_movie_title')"
   ]
  },
  {
   "cell_type": "code",
   "execution_count": 6,
   "id": "02e8e15e",
   "metadata": {
    "scrolled": true
   },
   "outputs": [
    {
     "data": {
      "text/plain": [
       "241"
      ]
     },
     "execution_count": 6,
     "metadata": {},
     "output_type": "execute_result"
    }
   ],
   "source": [
    "len(results)"
   ]
  },
  {
   "cell_type": "code",
   "execution_count": 7,
   "id": "a6b1b9ad",
   "metadata": {},
   "outputs": [],
   "source": [
    "item =results[0]"
   ]
  },
  {
   "cell_type": "code",
   "execution_count": 8,
   "id": "ab65be95",
   "metadata": {},
   "outputs": [],
   "source": [
    "atag =item.h2.a"
   ]
  },
  {
   "cell_type": "code",
   "execution_count": 9,
   "id": "a019a762",
   "metadata": {},
   "outputs": [
    {
     "data": {
      "text/plain": [
       "'My Salinger Year'"
      ]
     },
     "execution_count": 9,
     "metadata": {},
     "output_type": "execute_result"
    }
   ],
   "source": [
    "atag.text.strip()"
   ]
  },
  {
   "cell_type": "code",
   "execution_count": 10,
   "id": "131d96a0",
   "metadata": {},
   "outputs": [],
   "source": [
    "movie = atag.text.strip()"
   ]
  },
  {
   "cell_type": "code",
   "execution_count": 11,
   "id": "f21a3093",
   "metadata": {},
   "outputs": [],
   "source": [
    "rating = item.find('span', 'tMeterScore').text"
   ]
  },
  {
   "cell_type": "code",
   "execution_count": 17,
   "id": "a90322a1",
   "metadata": {},
   "outputs": [],
   "source": [
    "def extract_record(item):\n",
    "    \"\"\"Extract and return data from single record\"\"\"\n",
    "    #description \n",
    "    atag =item.h2.a\n",
    "    movie = atag.text.strip()\n",
    "    rating = item.find('span', 'tMeterScore').text\n",
    "    \n",
    "    result = (movie, rating)\n",
    "    \n",
    "    return result"
   ]
  },
  {
   "cell_type": "markdown",
   "id": "7d8c0c70",
   "metadata": {},
   "source": [
    "Compile"
   ]
  },
  {
   "cell_type": "code",
   "execution_count": 18,
   "id": "281048ac",
   "metadata": {},
   "outputs": [],
   "source": [
    "records = []\n",
    "results = soup.find_all('div','article_movie_title')\n",
    "\n",
    "for item in results:\n",
    "    records.append(extract_record(item))\n",
    "     #save data to csv file\n",
    "    with open('movies2021.csv', 'w', newline='', encoding='utf-8') as f:\n",
    "        writer = csv.writer(f)\n",
    "        writer.writerow(['Movie', 'Rating'])\n",
    "        writer.writerows(records) "
   ]
  },
  {
   "cell_type": "code",
   "execution_count": 7,
   "id": "c66856f8",
   "metadata": {},
   "outputs": [],
   "source": [
    "movies_2021 = pd.read_csv('movies2021.csv')"
   ]
  },
  {
   "cell_type": "code",
   "execution_count": 8,
   "id": "f4e8bb40",
   "metadata": {},
   "outputs": [
    {
     "data": {
      "text/html": [
       "<div>\n",
       "<style scoped>\n",
       "    .dataframe tbody tr th:only-of-type {\n",
       "        vertical-align: middle;\n",
       "    }\n",
       "\n",
       "    .dataframe tbody tr th {\n",
       "        vertical-align: top;\n",
       "    }\n",
       "\n",
       "    .dataframe thead th {\n",
       "        text-align: right;\n",
       "    }\n",
       "</style>\n",
       "<table border=\"1\" class=\"dataframe\">\n",
       "  <thead>\n",
       "    <tr style=\"text-align: right;\">\n",
       "      <th></th>\n",
       "      <th>Movie</th>\n",
       "      <th>Rating</th>\n",
       "    </tr>\n",
       "  </thead>\n",
       "  <tbody>\n",
       "    <tr>\n",
       "      <th>0</th>\n",
       "      <td>My Salinger Year</td>\n",
       "      <td>71%</td>\n",
       "    </tr>\n",
       "    <tr>\n",
       "      <th>1</th>\n",
       "      <td>Palmer</td>\n",
       "      <td>72%</td>\n",
       "    </tr>\n",
       "    <tr>\n",
       "      <th>2</th>\n",
       "      <td>Spoor</td>\n",
       "      <td>74%</td>\n",
       "    </tr>\n",
       "    <tr>\n",
       "      <th>3</th>\n",
       "      <td>Cruella</td>\n",
       "      <td>74%</td>\n",
       "    </tr>\n",
       "    <tr>\n",
       "      <th>4</th>\n",
       "      <td>Percy Vs Goliath</td>\n",
       "      <td>75%</td>\n",
       "    </tr>\n",
       "  </tbody>\n",
       "</table>\n",
       "</div>"
      ],
      "text/plain": [
       "              Movie Rating\n",
       "0  My Salinger Year    71%\n",
       "1            Palmer    72%\n",
       "2             Spoor    74%\n",
       "3           Cruella    74%\n",
       "4  Percy Vs Goliath    75%"
      ]
     },
     "execution_count": 8,
     "metadata": {},
     "output_type": "execute_result"
    }
   ],
   "source": [
    "movies_2021.head()"
   ]
  },
  {
   "cell_type": "code",
   "execution_count": null,
   "id": "d4db6abf",
   "metadata": {},
   "outputs": [],
   "source": []
  },
  {
   "cell_type": "code",
   "execution_count": null,
   "id": "fea654ee",
   "metadata": {},
   "outputs": [],
   "source": []
  }
 ],
 "metadata": {
  "kernelspec": {
   "display_name": "Python 3",
   "language": "python",
   "name": "python3"
  },
  "language_info": {
   "codemirror_mode": {
    "name": "ipython",
    "version": 3
   },
   "file_extension": ".py",
   "mimetype": "text/x-python",
   "name": "python",
   "nbconvert_exporter": "python",
   "pygments_lexer": "ipython3",
   "version": "3.8.8"
  }
 },
 "nbformat": 4,
 "nbformat_minor": 5
}
